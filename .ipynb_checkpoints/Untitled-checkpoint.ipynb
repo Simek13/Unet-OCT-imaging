{
 "cells": [
  {
   "cell_type": "code",
   "execution_count": 2,
   "metadata": {
    "collapsed": true
   },
   "outputs": [],
   "source": [
    "import os\n",
    "\n",
    "import numpy as np\n",
    "from PIL import Image\n",
    "from sklearn.model_selection import train_test_split"
   ]
  },
  {
   "cell_type": "code",
   "execution_count": 4,
   "metadata": {},
   "outputs": [
    {
     "name": "stdout",
     "output_type": "stream",
     "text": [
      "['DB  PCZMI27741365 20150211 OD', 'DB P860-40295 20150618 OS', 'DB P860-40295 20170706 OS', 'DB P860-40404 20150902 OS', 'DB P860-40404 20170315 OD', 'DB P860-40637 20151208 OD', 'DB PCZMI1030768251 20171130 OD', 'DB PCZMI1058008243 20170919 OD', 'DB PCZMI1187361133 20171003 OD', 'DB PCZMI1187361133 20171003 OS', 'DB PCZMI1256656953 20150421 OS', 'DB PCZMI1290205835 20170125 OS', 'DB PCZMI1370872841 20150105 OD', 'DB PCZMI1370872841 20150105 OS', 'DB PCZMI1424438846 20171116 OD', 'DB PCZMI1479000298 20150930 OS', 'DB PCZMI1702159848 20171219 OS', 'DB PCZMI1736718124 20161122 OS', 'DB PCZMI357175389 20171905 OS', 'DB PCZMI357175389 20172707 OS', 'DB PCZMI377866147 20160929 OS', 'DB PCZMI400187649 20160205 OD', 'DB PCZMI400187649 20162111 OD', 'DB PCZMI586305412 20170609 OD', 'DB PCZMI775895623 20160927 OD']\n"
     ]
    }
   ],
   "source": [
    "dirs = os.listdir(\"./input\")\n",
    "\n",
    "for dir in dirs:\n",
    "    "
   ]
  },
  {
   "cell_type": "code",
   "execution_count": null,
   "metadata": {
    "collapsed": true
   },
   "outputs": [],
   "source": []
  }
 ],
 "metadata": {
  "kernelspec": {
   "display_name": "Python 3",
   "language": "python",
   "name": "python3"
  },
  "language_info": {
   "codemirror_mode": {
    "name": "ipython",
    "version": 3
   },
   "file_extension": ".py",
   "mimetype": "text/x-python",
   "name": "python",
   "nbconvert_exporter": "python",
   "pygments_lexer": "ipython3",
   "version": "3.6.2"
  }
 },
 "nbformat": 4,
 "nbformat_minor": 2
}
